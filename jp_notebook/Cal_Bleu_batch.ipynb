{
 "cells": [
  {
   "cell_type": "code",
   "execution_count": 1,
   "id": "c324aa5d",
   "metadata": {},
   "outputs": [
    {
     "name": "stdout",
     "output_type": "stream",
     "text": [
      "Finished.\n",
      "Vocabulary sizes:\n",
      "8315\n",
      "6384\n"
     ]
    }
   ],
   "source": [
    "import os\n",
    "from os.path import exists\n",
    "import torch\n",
    "import torch.nn as nn\n",
    "from torch.nn.functional import log_softmax, pad\n",
    "import math\n",
    "import copy\n",
    "import time\n",
    "from torch.optim.lr_scheduler import LambdaLR\n",
    "import pandas as pd\n",
    "import altair as alt\n",
    "from torchtext.data.functional import to_map_style_dataset\n",
    "from torch.utils.data import DataLoader\n",
    "from torchtext.vocab import build_vocab_from_iterator\n",
    "import torchtext.datasets as datasets\n",
    "import spacy\n",
    "import GPUtil\n",
    "import warnings\n",
    "from torch.utils.data.distributed import DistributedSampler\n",
    "import torch.distributed as dist\n",
    "import torch.multiprocessing as mp\n",
    "from torch.nn.parallel import DistributedDataParallel as DDP\n",
    "\n",
    "# %run Model_experiment.ipynb\n",
    "# %run Model_EncoderLstm.ipynb\n",
    "%run Model_structure.ipynb\n",
    "%run Dataset.ipynb\n",
    "\n",
    "# Set to False to skip notebook execution (e.g. for debugging)\n",
    "warnings.filterwarnings(\"ignore\")"
   ]
  },
  {
   "cell_type": "code",
   "execution_count": 2,
   "id": "7873a531",
   "metadata": {},
   "outputs": [],
   "source": [
    "###Bleu\n",
    "from nltk.translate.bleu_score import sentence_bleu\n",
    "\n",
    "class BleuScore:\n",
    "    def __init__(self):\n",
    "        self.total_bleu=0\n",
    "        self.total_num=0\n",
    "    \n",
    "    @staticmethod\n",
    "    def cal_single_bleu(reference, candidate):\n",
    "        return sentence_bleu(reference, candidate)\n",
    "    \n",
    "    def add(self,reference, candidate):\n",
    "        self.total_bleu+=sentence_bleu(reference, candidate)\n",
    "        self.total_num+=1\n",
    "    \n",
    "    def get_score(self):\n",
    "        return (self.total_bleu/self.total_num)*100\n"
   ]
  },
  {
   "cell_type": "code",
   "execution_count": 3,
   "id": "f87e8b5a",
   "metadata": {},
   "outputs": [],
   "source": [
    "def cal_batch_bleu(data_iter,model,batchsize,max_len=72,start_symbol=0,pad_idx=2,eos_string=\"</s>\"):\n",
    "    global vocab_src, vocab_tgt, spacy_de, spacy_en\n",
    "    \n",
    "    bleu = BleuScore()\n",
    "    for batch in data_iter:\n",
    "        memory = model.encode(batch.src, batch.src_mask)\n",
    "        ys = torch.zeros(batchsize, 1).fill_(start_symbol).type_as(batch.src.data)\n",
    "        for i in range(max_len - 1):\n",
    "            #(batchsize, seq, 512)\n",
    "\n",
    "            out = model.decode(memory, batch.src_mask, ys, subsequent_mask(ys.size(1)).type_as(batch.src.data))\n",
    "            #(batchsize, vocabsize)\n",
    "            prob = model.generator(out[:, -1, :])\n",
    "            #(batchsize)\n",
    "            _, next_word = torch.max(prob, dim=1)\n",
    "            ys = torch.cat([ys, next_word.unsqueeze(1)], dim=1)\n",
    "        for i in range(batchsize):\n",
    "            src, tgt, pred = batch.src[i, :], batch.tgt[i, :], ys[i, :]\n",
    "            src = [vocab_src.get_itos()[x] for x in src if x != pad_idx][1:-1]\n",
    "            tgt = [vocab_tgt.get_itos()[x] for x in tgt if x != pad_idx][1:-1]\n",
    "            pred = (\" \".join([vocab_tgt.get_itos()[x] for x in pred if x != pad_idx]).split(eos_string, 1)[0]\n",
    "                    + eos_string).split(' ')[1:-1]\n",
    "            bleu.add([tgt], pred)\n",
    "    print(bleu.total_num, bleu.get_score())\n",
    "    return bleu.get_score()\n",
    "#             print(BleuScore.cal_single_bleu([tgt],pred))\n",
    "#     print(bleu.get_score())\n",
    "            "
   ]
  },
  {
   "cell_type": "code",
   "execution_count": 4,
   "id": "30e702d1",
   "metadata": {},
   "outputs": [],
   "source": [
    "def eval_worker(batchsize, max_padding=72):\n",
    "\n",
    "    torch.cuda.set_device(0)\n",
    "    pad_idx = vocab_tgt[\"<blank>\"]\n",
    "    d_model = 512\n",
    "    model = make_model(len(vocab_src), len(vocab_tgt), N=6, d_model=512, d_ff=2048, h=4, dropout=0.1)\n",
    "    model.cuda(0)\n",
    "    model.load_state_dict(torch.load(\"./base/multi30k_best.pt\"))\n",
    "    module = model\n",
    "\n",
    "    train_dataloader, valid_dataloader = create_dataloaders(\n",
    "        0,\n",
    "        vocab_src,\n",
    "        vocab_tgt,\n",
    "        spacy_de,\n",
    "        spacy_en,\n",
    "        batch_size=batchsize,\n",
    "        max_padding=max_padding,\n",
    "    )\n",
    "    \n",
    "    \n",
    "    model.eval()\n",
    "    cal_batch_bleu((Batch(b[0], b[1], pad_idx) for b in valid_dataloader), model, batchsize)\n",
    "    torch.cuda.empty_cache()"
   ]
  },
  {
   "cell_type": "code",
   "execution_count": 5,
   "id": "bc93a8f6",
   "metadata": {},
   "outputs": [
    {
     "name": "stdout",
     "output_type": "stream",
     "text": [
      "1015 27.632053646214967\n"
     ]
    }
   ],
   "source": [
    "eval_worker(batchsize=35)"
   ]
  },
  {
   "cell_type": "code",
   "execution_count": null,
   "id": "eb808cbd",
   "metadata": {},
   "outputs": [],
   "source": []
  }
 ],
 "metadata": {
  "kernelspec": {
   "display_name": "Python 3 (ipykernel)",
   "language": "python",
   "name": "python3"
  },
  "language_info": {
   "codemirror_mode": {
    "name": "ipython",
    "version": 3
   },
   "file_extension": ".py",
   "mimetype": "text/x-python",
   "name": "python",
   "nbconvert_exporter": "python",
   "pygments_lexer": "ipython3",
   "version": "3.7.15"
  }
 },
 "nbformat": 4,
 "nbformat_minor": 5
}
